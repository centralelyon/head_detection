{
  "nbformat": 4,
  "nbformat_minor": 0,
  "metadata": {
    "colab": {
      "name": "testing_notebook.ipynb",
      "provenance": [],
      "collapsed_sections": []
    },
    "kernelspec": {
      "name": "python3",
      "display_name": "Python 3"
    },
    "language_info": {
      "name": "python"
    },
    "accelerator": "GPU"
  },
  "cells": [
    {
      "cell_type": "markdown",
      "metadata": {
        "id": "aLSqL3eGUfeO"
      },
      "source": [
        "### Testing notebook to execute a trained Faster-RCNN to detect swimmers' head on images or videos"
      ]
    },
    {
      "cell_type": "markdown",
      "metadata": {
        "id": "RhW9Mhi_-jo0"
      },
      "source": [
        "If you plan to use this notebook with Google Colab you need first to mount your Google Drive by executing the first cell."
      ]
    },
    {
      "cell_type": "code",
      "metadata": {
        "id": "OUxt2gzYUedX",
        "colab": {
          "base_uri": "https://localhost:8080/"
        },
        "outputId": "e36096e9-4914-420f-8f33-5c40702dad59"
      },
      "source": [
        "\n",
        "import os\n",
        "\n",
        "from google.colab import drive\n",
        "drive.mount('/content/gdrive')\n",
        "os.chdir('gdrive/My Drive/') "
      ],
      "execution_count": 1,
      "outputs": [
        {
          "output_type": "stream",
          "text": [
            "Mounted at /content/gdrive\n"
          ],
          "name": "stdout"
        }
      ]
    },
    {
      "cell_type": "markdown",
      "metadata": {
        "id": "qqrJ5Nux-mHE"
      },
      "source": [
        "Then we import the different modules.\n",
        "\n",
        "transforms is imported from the .py files you should have in your working directory. It can be found here : https://github.com/pytorch/vision/tree/master/references/detection or in the current github repo."
      ]
    },
    {
      "cell_type": "code",
      "metadata": {
        "id": "cko7m6ZkJSuS"
      },
      "source": [
        "import numpy as np\n",
        "\n",
        "import torch\n",
        "import torchvision\n",
        "from PIL import Image, ImageDraw\n",
        "import pandas as pd\n",
        "\n",
        "from google.colab.patches import cv2_imshow #cv2.imshow doesnt work with Google Colab\n",
        "\n",
        "from torchvision.models.detection.faster_rcnn import FastRCNNPredictor\n",
        "from torchvision.models.detection import FasterRCNN\n",
        "from torchvision.models.detection.rpn import AnchorGenerator\n",
        "\n",
        "import transforms as T  \n",
        "\n",
        "import cv2\n",
        "\n"
      ],
      "execution_count": 23,
      "outputs": []
    },
    {
      "cell_type": "markdown",
      "metadata": {
        "id": "SIvN2QzA-swt"
      },
      "source": [
        "Then we give the path towards the model (you need to modify it and give your path)."
      ]
    },
    {
      "cell_type": "code",
      "metadata": {
        "id": "0mW96ANfVYYs"
      },
      "source": [
        "to_load_path = './model.pt' #Path towards the dictionnary which contains the weights of a trained Faster-RCNN ; #TO FILL"
      ],
      "execution_count": 20,
      "outputs": []
    },
    {
      "cell_type": "markdown",
      "metadata": {
        "id": "10ZpMrg6-xby"
      },
      "source": [
        "The following function is needed to instantiate the model. Just execute the cell."
      ]
    },
    {
      "cell_type": "code",
      "metadata": {
        "id": "MwETNAs48JSr"
      },
      "source": [
        "def get_model(num_classes):\n",
        "   # load an object detection model pre-trained on COCO\n",
        "   model = torchvision.models.detection.fasterrcnn_resnet50_fpn(pretrained=True)\n",
        "\n",
        "   # create an anchor_generator for the FPN which by default has 5 outputs\n",
        "   anchor_generator = AnchorGenerator(sizes=((10,), (20,), (30,), (40,), (50,)), aspect_ratios=tuple([(0.5, 1.0, 2.0) for _ in range(5)]))\n",
        "        \n",
        "   # get the number of input features for the classifier\n",
        "   in_features = model.roi_heads.box_predictor.cls_score.in_features\n",
        "    \n",
        "   # replace the pre-trained head with a new on\n",
        "   model.roi_heads.box_predictor = FastRCNNPredictor(in_features,num_classes)\n",
        "   \n",
        "   return model"
      ],
      "execution_count": 16,
      "outputs": []
    },
    {
      "cell_type": "markdown",
      "metadata": {
        "id": "5yeIIQIRU2ua"
      },
      "source": [
        "The first cell allows you to test the model on any image zoomed on swimmers.\n",
        "\n",
        "The secund cell allows you to test the model on a (zoomed) video. The path to the video must be specified. Without GPU acceleration, the calculations are long (about 4 seconds per frame of video of size 256x256). The path to the video must be specified."
      ]
    },
    {
      "cell_type": "code",
      "metadata": {
        "id": "fopXfskPUuDs",
        "colab": {
          "base_uri": "https://localhost:8080/",
          "height": 143
        },
        "outputId": "bfaf294a-66c1-4c80-a612-a35f833349dc"
      },
      "source": [
        "def analyse_image(image_path, thresh, model_path, colab=False) :\n",
        "  \"\"\"\n",
        "  Parameters :\n",
        "  image_path : path towards the image to analyse\n",
        "  thresh : only detections with score above threshold are kept\n",
        "  model_path : path towards the dictionnary which contains the weights of a trained Faster-RCNN\n",
        "  colab : True if executing the notebook online (google Colab), False if executed locally.\n",
        "\n",
        "  The function shows the image with rectangles drawn on the detections\n",
        "  The function also returns a couple of array (boxes, scores) where\n",
        "  boxes is an array of boxes [xmin,ymin,xmax,ymax] and scores is an array \n",
        "  which contains the corresponding prediction score\n",
        "  \"\"\"\n",
        "  \n",
        "  device = torch.device('cuda') if torch.cuda.is_available() else torch.device('cpu') \n",
        "\n",
        "  loaded_model = get_model(num_classes = 2)\n",
        "  loaded_model.load_state_dict(torch.load(to_load_path, map_location=device))\n",
        "  loaded_model.to(device)\n",
        "\n",
        "  img_cv = cv2.imread(image_path)\n",
        "  img = cv2.cvtColor(img_cv, cv2.COLOR_BGR2RGB)\n",
        "  img= T.ToTensor()(img)[0].to(device)\n",
        " \n",
        "  #put the model in evaluation mode\n",
        "  loaded_model.eval()\n",
        "  with torch.no_grad():\n",
        "      prediction = loaded_model([img])\n",
        "  \n",
        "  for element in range(len(prediction[0][\"boxes\"])):\n",
        "      boxes = prediction[0][\"boxes\"][element].cpu().numpy()\n",
        "      score = np.round(prediction[0][\"scores\"][element].cpu().numpy(),\n",
        "                      decimals= 4)\n",
        "      \n",
        "      if score >= thresh:\n",
        "        top_left = (int(boxes[0]), int(boxes[1]))\n",
        "        bottom_right = (int(boxes[2]), int(boxes[3]))\n",
        "        img_cv = cv2.rectangle(img_cv, top_left, bottom_right, (0,255,0),2) #draw a rectangle\n",
        "        img_cv = cv2.putText(img_cv, str(score), (top_left[0], bottom_right[1]+10), cv2.FONT_HERSHEY_SIMPLEX, 0.3, (0,255,0), 1) #draw score\n",
        "\n",
        "  if colab : #cv2.imshow doesnt work with Google Colab\n",
        "    cv2_imshow(img_cv)\n",
        "  else : \n",
        "    cv2.imshow(img_cv)\n",
        "\n",
        "  return prediction[0][\"boxes\"].numpy(), prediction[0][\"scores\"].numpy()\n",
        "\n",
        "image_path = '' #TO FILL\n",
        "analyse_image(image_path,0.8, to_load_path)"
      ],
      "execution_count": 27,
      "outputs": [
        {
          "output_type": "display_data",
          "data": {
            "image/png": "[encoded data removed]",
            "text/plain": [
              "<PIL.Image.Image image mode=RGB size=277x92 at 0x7F6909AC2850>"
            ]
          },
          "metadata": {
            "tags": []
          }
        },
        {
          "output_type": "execute_result",
          "data": {
            "text/plain": [
              "(array([[54.648006, 15.387943, 81.18403 , 42.985004]], dtype=float32),\n",
              " array([0.99375004], dtype=float32))"
            ]
          },
          "metadata": {
            "tags": []
          },
          "execution_count": 27
        }
      ]
    },
    {
      "cell_type": "code",
      "metadata": {
        "id": "8Oi1UpPHUvp0",
        "colab": {
          "base_uri": "https://localhost:8080/",
          "height": 198
        },
        "outputId": "ddc8461d-a2fc-4236-e58f-9f8211edea58"
      },
      "source": [
        "# test sur une video\n",
        "\n",
        "def analyse_video(video_path, out_path, thresh, model_path) :\n",
        "  \"\"\"\n",
        "  Parameters :\n",
        "  video_path : path towards the video to analyse\n",
        "  out_path : path towards the video with rectangles on detections\n",
        "  thresh : only detections with score above threshold are kept\n",
        "  model_path : path towards the dictionnary which contains the weights of a trained Faster-RCNN\n",
        "\n",
        "  The function writes a video at the requested location with each frame showing the\n",
        "  bounding boxes detected by the Faster-RCNN with the requested threshold\n",
        "  \n",
        "  It returns a \"box_head\" list such that for each frame i, box_head[i] is a \n",
        "  list of lists of the form [frame, top_left, bottom_right] for each bounding box \n",
        "  on frame i  where frame is the number of the frame, top_left and botom_right are \n",
        "  the top left and bottom right point of the bouding box of the detection\n",
        "  \"\"\"\n",
        "\n",
        "  # use GPU if CUDA is available otherwise use CPU\n",
        "  device = torch.device('cuda') if torch.cuda.is_available() else torch.device('cpu') \n",
        "\n",
        "  loaded_model = get_model(num_classes = 2)\n",
        "  loaded_model.load_state_dict(torch.load(to_load_path, map_location=device))\n",
        "  loaded_model.to(device)\n",
        "\n",
        "  box_head = []\n",
        "\n",
        "  cap = cv2.VideoCapture(video_path)\n",
        "  fps = cap.get(cv2.CAP_PROP_FPS)\n",
        "  width = cap.get(cv2.CAP_PROP_FRAME_WIDTH)  # float \n",
        "  height = cap.get(cv2.CAP_PROP_FRAME_HEIGHT) # float\n",
        "  fourcc = cv2.VideoWriter_fourcc(*'XVID')\n",
        "  out = cv2.VideoWriter(out_path, fourcc, fps, (int(width),  int(height)))\n",
        "  length = cap.get(cv2.CAP_PROP_FRAME_COUNT)\n",
        "\n",
        "  #put the model in evaluation mode\n",
        "  loaded_model.eval()\n",
        "  with torch.no_grad():\n",
        "\n",
        "    while(True):\n",
        "        # Capture frame-by-frame\n",
        "        ret, frame = cap.read()\n",
        "        num_frame = cap.get(cv2.CAP_PROP_POS_FRAMES)\n",
        "        print(str(num_frame)+' on '+str(length))\n",
        "\n",
        "        if ret :\n",
        "          img = frame\n",
        "          img = cv2.cvtColor(img, cv2.COLOR_BGR2RGB) #RGB \n",
        "          im_tensor = T.ToTensor()(img)[0].to(device) #tensor \n",
        "\n",
        "        \n",
        "          detection = loaded_model([im_tensor])\n",
        "\n",
        "          \n",
        "          N = len(detection[0]['boxes']) #Number of detections\n",
        "          boxes = []\n",
        "          for n in range(N) : \n",
        "            xmin, ymin,xmax, ymax = detection[0]['boxes'][n]\n",
        "            score = detection[0]['scores'][n].item()\n",
        "\n",
        "            if score>= thresh : \n",
        "              top_left = (int(xmin.item()), int(ymin.item()))\n",
        "              bottom_right = (int(xmax.item()), int(ymax.item()))\n",
        "              frame = cv2.rectangle(frame, top_left,bottom_right , (0,255,0), 2)\n",
        "              boxes.append([num_frame, top_left, bottom_right])\n",
        "              \n",
        "\n",
        "          box_head.append(boxes)\n",
        "\n",
        "              \n",
        "          out.write(frame)\n",
        "\n",
        "        else :\n",
        "            break\n",
        "\n",
        "    cap.release()\n",
        "    out.release()\n",
        "    cv2.destroyAllWindows()\n",
        "\n",
        "    return box_head\n",
        "\n",
        "video_path = '' #TO FILL\n",
        "out_path = '' #TO FILL\n",
        "\n",
        "box_head = analyse_video(video_path, out_path , 0.8, to_load_path)"
      ],
      "execution_count": 1,
      "outputs": [
        {
          "output_type": "error",
          "ename": "NameError",
          "evalue": "ignored",
          "traceback": [
            "\u001b[0;31m---------------------------------------------------------------------------\u001b[0m",
            "\u001b[0;31mNameError\u001b[0m                                 Traceback (most recent call last)",
            "\u001b[0;32m<ipython-input-1-6f75cf4f7260>\u001b[0m in \u001b[0;36m<module>\u001b[0;34m()\u001b[0m\n\u001b[1;32m     81\u001b[0m     \u001b[0;32mreturn\u001b[0m \u001b[0mbox_head\u001b[0m\u001b[0;34m\u001b[0m\u001b[0;34m\u001b[0m\u001b[0m\n\u001b[1;32m     82\u001b[0m \u001b[0;34m\u001b[0m\u001b[0m\n\u001b[0;32m---> 83\u001b[0;31m \u001b[0mbox_head\u001b[0m \u001b[0;34m=\u001b[0m \u001b[0manalyse_video\u001b[0m\u001b[0;34m(\u001b[0m\u001b[0;34m'./swimmer/course/2015_Kazan_brasse_dames_50_finale/zoom.mp4'\u001b[0m\u001b[0;34m,\u001b[0m \u001b[0;34m'./swimmer/course/2015_Kazan_brasse_dames_50_finale/zoomout.mp4'\u001b[0m\u001b[0;34m,\u001b[0m \u001b[0;36m0.8\u001b[0m\u001b[0;34m,\u001b[0m \u001b[0mto_load_path\u001b[0m\u001b[0;34m)\u001b[0m\u001b[0;34m\u001b[0m\u001b[0;34m\u001b[0m\u001b[0m\n\u001b[0m",
            "\u001b[0;31mNameError\u001b[0m: name 'to_load_path' is not defined"
          ]
        }
      ]
    }
  ]
}
